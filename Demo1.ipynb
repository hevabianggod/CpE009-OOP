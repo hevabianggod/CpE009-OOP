{
  "nbformat": 4,
  "nbformat_minor": 0,
  "metadata": {
    "colab": {
      "provenance": [],
      "authorship_tag": "ABX9TyOc93KzSzN+ybk01ZM1z34F",
      "include_colab_link": true
    },
    "kernelspec": {
      "name": "python3",
      "display_name": "Python 3"
    },
    "language_info": {
      "name": "python"
    }
  },
  "cells": [
    {
      "cell_type": "markdown",
      "metadata": {
        "id": "view-in-github",
        "colab_type": "text"
      },
      "source": [
        "<a href=\"https://colab.research.google.com/github/hevabianggod/CpE009-OOP/blob/main/Demo1.ipynb\" target=\"_parent\"><img src=\"https://colab.research.google.com/assets/colab-badge.svg\" alt=\"Open In Colab\"/></a>"
      ]
    },
    {
      "cell_type": "markdown",
      "source": [
        "\n",
        "Phyton Identation"
      ],
      "metadata": {
        "id": "OECG089vIFzP"
      }
    },
    {
      "cell_type": "code",
      "execution_count": null,
      "metadata": {
        "colab": {
          "base_uri": "https://localhost:8080/"
        },
        "id": "C3X-72gJHPlf",
        "outputId": "884d9159-4994-4707-f83a-90fd36a00e20"
      },
      "outputs": [
        {
          "output_type": "stream",
          "name": "stdout",
          "text": [
            "Five is greater than two\n"
          ]
        }
      ],
      "source": [
        "if 5>2:\n",
        "  print (\"Five is greater than two\")"
      ]
    },
    {
      "cell_type": "markdown",
      "source": [
        "Python Comments"
      ],
      "metadata": {
        "id": "XCImm_AmMKzs"
      }
    },
    {
      "cell_type": "code",
      "source": [
        "if 5>2:\n",
        "  print (\"Five is greater than two\") #comparison of numbers 5 and 2"
      ],
      "metadata": {
        "colab": {
          "base_uri": "https://localhost:8080/"
        },
        "id": "golAE9BsKHmt",
        "outputId": "0e099b26-6293-4e07-c70c-1eb31a85c006"
      },
      "execution_count": null,
      "outputs": [
        {
          "output_type": "stream",
          "name": "stdout",
          "text": [
            "Five is greater than two\n"
          ]
        }
      ]
    },
    {
      "cell_type": "markdown",
      "source": [
        "Phyton Variable"
      ],
      "metadata": {
        "id": "DpP28Pp9Ma1B"
      }
    },
    {
      "cell_type": "code",
      "source": [
        "x=1 #This is a single variable with a value\n",
        "a,b=0,-1\n",
        "\n",
        "print (a)\n",
        "print (b)\n",
        "print (x)\n",
        "b=\"Sally\"\n",
        "\n",
        "print (b)"
      ],
      "metadata": {
        "colab": {
          "base_uri": "https://localhost:8080/"
        },
        "id": "0ZKxpRi3Mc7a",
        "outputId": "edc946ac-0079-4402-de97-a09e87f4731f"
      },
      "execution_count": null,
      "outputs": [
        {
          "output_type": "stream",
          "name": "stdout",
          "text": [
            "0\n",
            "-1\n",
            "1\n",
            "Sally\n"
          ]
        }
      ]
    },
    {
      "cell_type": "markdown",
      "source": [
        "Casting"
      ],
      "metadata": {
        "id": "tL5J0mZVNymN"
      }
    },
    {
      "cell_type": "code",
      "source": [
        "b=\"sally\" #This is a type of string\n",
        "b=int(4)\n",
        "print(b)\n",
        "\n",
        "b=float(4)\n",
        "print(b)"
      ],
      "metadata": {
        "colab": {
          "base_uri": "https://localhost:8080/"
        },
        "id": "J7pkBwOwN0uE",
        "outputId": "fe20a4a5-fa99-42ad-85c9-943a0218c76a"
      },
      "execution_count": null,
      "outputs": [
        {
          "output_type": "stream",
          "name": "stdout",
          "text": [
            "4\n",
            "4.0\n"
          ]
        }
      ]
    },
    {
      "cell_type": "markdown",
      "source": [
        "Type() function"
      ],
      "metadata": {
        "id": "pXE--9mFN7mB"
      }
    },
    {
      "cell_type": "code",
      "source": [
        "x=5\n",
        "y=\"John\"\n",
        "print (type(x))\n",
        "print (type(y))"
      ],
      "metadata": {
        "colab": {
          "base_uri": "https://localhost:8080/"
        },
        "id": "qQq1yh1yN_cz",
        "outputId": "55ddf460-3247-49b5-85e7-e569b400ff94"
      },
      "execution_count": null,
      "outputs": [
        {
          "output_type": "stream",
          "name": "stdout",
          "text": [
            "<class 'int'>\n",
            "<class 'str'>\n"
          ]
        }
      ]
    },
    {
      "cell_type": "markdown",
      "source": [
        "Double Quotes or SIngle Quotes"
      ],
      "metadata": {
        "id": "TSHN0prMPs9L"
      }
    },
    {
      "cell_type": "code",
      "source": [
        "y=\"John\"\n",
        "print (y)\n",
        "y='john'\n",
        "print(y)"
      ],
      "metadata": {
        "colab": {
          "base_uri": "https://localhost:8080/"
        },
        "id": "LPPcxhuaPwL8",
        "outputId": "362b9042-7dd4-4718-9481-e87a7b3e23ef"
      },
      "execution_count": null,
      "outputs": [
        {
          "output_type": "stream",
          "name": "stdout",
          "text": [
            "John\n",
            "john\n"
          ]
        }
      ]
    },
    {
      "cell_type": "markdown",
      "source": [
        "Case Sensitive"
      ],
      "metadata": {
        "id": "Qm9B6s2KPyxh"
      }
    },
    {
      "cell_type": "code",
      "source": [
        "a=4\n",
        "A=\"Sally\"\n",
        "#A will not overwrite a"
      ],
      "metadata": {
        "id": "1a_S_941P1JM"
      },
      "execution_count": null,
      "outputs": []
    },
    {
      "cell_type": "markdown",
      "source": [
        "Multiple Variables"
      ],
      "metadata": {
        "id": "A2QVOlYoQNN4"
      }
    },
    {
      "cell_type": "code",
      "source": [
        "x,y,z = \"one\",\"two\",\"three\"\n",
        "print(x)\n",
        "print(y)\n",
        "print(z)"
      ],
      "metadata": {
        "colab": {
          "base_uri": "https://localhost:8080/"
        },
        "id": "AJF2iqKmQPKw",
        "outputId": "d5d62360-a3e8-4407-96ba-009179c1e615"
      },
      "execution_count": null,
      "outputs": [
        {
          "output_type": "stream",
          "name": "stdout",
          "text": [
            "one\n",
            "two\n",
            "three\n"
          ]
        }
      ]
    },
    {
      "cell_type": "markdown",
      "source": [
        "Output Variables\n",
        "The python print is used to output variables and + is used to combine both text and variable"
      ],
      "metadata": {
        "id": "_WpKntqDROuA"
      }
    },
    {
      "cell_type": "code",
      "source": [
        "x=\"enjoying\"\n",
        "print (\"Python programming is\"+\" \"+x)\n",
        "\n"
      ],
      "metadata": {
        "colab": {
          "base_uri": "https://localhost:8080/"
        },
        "id": "ha1roRA-QUlp",
        "outputId": "39217517-4c85-4952-9a2b-9cdfe778bdef"
      },
      "execution_count": null,
      "outputs": [
        {
          "output_type": "stream",
          "name": "stdout",
          "text": [
            "Python programming is enjoying\n",
            "three\n"
          ]
        }
      ]
    },
    {
      "cell_type": "code",
      "source": [
        "X=\"python is\"\n",
        "Y=\" enjoying\"\n",
        "Z=X+Y\n",
        "print(Z)"
      ],
      "metadata": {
        "colab": {
          "base_uri": "https://localhost:8080/"
        },
        "id": "E6iZNqH_ReXB",
        "outputId": "0b686a44-4cdd-4868-c7e2-cb88c97d9ec3"
      },
      "execution_count": null,
      "outputs": [
        {
          "output_type": "stream",
          "name": "stdout",
          "text": [
            "python is enjoying\n"
          ]
        }
      ]
    }
  ]
}