{
  "nbformat": 4,
  "nbformat_minor": 0,
  "metadata": {
    "colab": {
      "provenance": [],
      "authorship_tag": "ABX9TyNCm5JQa/G4edSPmRq3CjlW",
      "include_colab_link": true
    },
    "kernelspec": {
      "name": "python3",
      "display_name": "Python 3"
    },
    "language_info": {
      "name": "python"
    }
  },
  "cells": [
    {
      "cell_type": "markdown",
      "metadata": {
        "id": "view-in-github",
        "colab_type": "text"
      },
      "source": [
        "<a href=\"https://colab.research.google.com/github/hevabianggod/CpE009-OOP/blob/main/PrelimSpecialExam.ipynb\" target=\"_parent\"><img src=\"https://colab.research.google.com/assets/colab-badge.svg\" alt=\"Open In Colab\"/></a>"
      ]
    },
    {
      "cell_type": "code",
      "execution_count": 3,
      "metadata": {
        "colab": {
          "base_uri": "https://localhost:8080/"
        },
        "id": "hbuxmIQH46G7",
        "outputId": "ccdca2f2-20a4-4aad-eca7-f024cb43d9ff"
      },
      "outputs": [
        {
          "output_type": "stream",
          "name": "stdout",
          "text": [
            "Enter your fullname:Ryan Lorenzo\n",
            "Enter your age:18\n",
            "Fullname and age: Ryan Lorenzo18\n"
          ]
        }
      ],
      "source": [
        "fullname = input(\"Enter your fullname:\")\n",
        "age = input(\"Enter your age:\")\n",
        "print (\"Fullname and age: \" +fullname + age)"
      ]
    },
    {
      "cell_type": "code",
      "source": [],
      "metadata": {
        "id": "SzGLKgfT5GoK"
      },
      "execution_count": null,
      "outputs": []
    }
  ]
}